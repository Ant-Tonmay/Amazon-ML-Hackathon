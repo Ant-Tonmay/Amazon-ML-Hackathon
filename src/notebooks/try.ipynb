{
 "cells": [
  {
   "cell_type": "code",
   "execution_count": 2,
   "metadata": {},
   "outputs": [
    {
     "data": {
      "text/html": [
       "<div>\n",
       "<style scoped>\n",
       "    .dataframe tbody tr th:only-of-type {\n",
       "        vertical-align: middle;\n",
       "    }\n",
       "\n",
       "    .dataframe tbody tr th {\n",
       "        vertical-align: top;\n",
       "    }\n",
       "\n",
       "    .dataframe thead th {\n",
       "        text-align: right;\n",
       "    }\n",
       "</style>\n",
       "<table border=\"1\" class=\"dataframe\">\n",
       "  <thead>\n",
       "    <tr style=\"text-align: right;\">\n",
       "      <th></th>\n",
       "      <th>image_link</th>\n",
       "      <th>group_id</th>\n",
       "      <th>entity_name</th>\n",
       "      <th>entity_value</th>\n",
       "    </tr>\n",
       "  </thead>\n",
       "  <tbody>\n",
       "    <tr>\n",
       "      <th>0</th>\n",
       "      <td>https://m.media-amazon.com/images/I/61I9XdN6OF...</td>\n",
       "      <td>748919</td>\n",
       "      <td>item_weight</td>\n",
       "      <td>500.0 gram</td>\n",
       "    </tr>\n",
       "    <tr>\n",
       "      <th>1</th>\n",
       "      <td>https://m.media-amazon.com/images/I/71gSRbyXmo...</td>\n",
       "      <td>916768</td>\n",
       "      <td>item_volume</td>\n",
       "      <td>1.0 cup</td>\n",
       "    </tr>\n",
       "    <tr>\n",
       "      <th>2</th>\n",
       "      <td>https://m.media-amazon.com/images/I/61BZ4zrjZX...</td>\n",
       "      <td>459516</td>\n",
       "      <td>item_weight</td>\n",
       "      <td>0.709 gram</td>\n",
       "    </tr>\n",
       "    <tr>\n",
       "      <th>3</th>\n",
       "      <td>https://m.media-amazon.com/images/I/612mrlqiI4...</td>\n",
       "      <td>459516</td>\n",
       "      <td>item_weight</td>\n",
       "      <td>0.709 gram</td>\n",
       "    </tr>\n",
       "    <tr>\n",
       "      <th>4</th>\n",
       "      <td>https://m.media-amazon.com/images/I/617Tl40LOX...</td>\n",
       "      <td>731432</td>\n",
       "      <td>item_weight</td>\n",
       "      <td>1400 milligram</td>\n",
       "    </tr>\n",
       "  </tbody>\n",
       "</table>\n",
       "</div>"
      ],
      "text/plain": [
       "                                          image_link  group_id  entity_name  \\\n",
       "0  https://m.media-amazon.com/images/I/61I9XdN6OF...    748919  item_weight   \n",
       "1  https://m.media-amazon.com/images/I/71gSRbyXmo...    916768  item_volume   \n",
       "2  https://m.media-amazon.com/images/I/61BZ4zrjZX...    459516  item_weight   \n",
       "3  https://m.media-amazon.com/images/I/612mrlqiI4...    459516  item_weight   \n",
       "4  https://m.media-amazon.com/images/I/617Tl40LOX...    731432  item_weight   \n",
       "\n",
       "     entity_value  \n",
       "0      500.0 gram  \n",
       "1         1.0 cup  \n",
       "2      0.709 gram  \n",
       "3      0.709 gram  \n",
       "4  1400 milligram  "
      ]
     },
     "execution_count": 2,
     "metadata": {},
     "output_type": "execute_result"
    }
   ],
   "source": [
    "import pandas as pd\n",
    "\n",
    "\n",
    "train = pd.read_csv(\"../../dataset/train.csv\")\n",
    "\n",
    "train.head(5)"
   ]
  },
  {
   "cell_type": "code",
   "execution_count": 3,
   "metadata": {},
   "outputs": [
    {
     "data": {
      "text/plain": [
       "'https://m.media-amazon.com/images/I/71gSRbyXmoL.jpg'"
      ]
     },
     "execution_count": 3,
     "metadata": {},
     "output_type": "execute_result"
    }
   ],
   "source": [
    "train[\"image_link\"][1]"
   ]
  },
  {
   "cell_type": "code",
   "execution_count": 4,
   "metadata": {},
   "outputs": [
    {
     "data": {
      "text/plain": [
       "array(['item_weight', 'item_volume', 'voltage', 'wattage',\n",
       "       'maximum_weight_recommendation', 'height', 'depth', 'width'],\n",
       "      dtype=object)"
      ]
     },
     "execution_count": 4,
     "metadata": {},
     "output_type": "execute_result"
    }
   ],
   "source": [
    "train[\"entity_name\"].unique()"
   ]
  },
  {
   "cell_type": "code",
   "execution_count": 7,
   "metadata": {},
   "outputs": [
    {
     "name": "stdout",
     "output_type": "stream",
     "text": [
      "Saved processed image to ../../dataset/train_images\\processed_image_0.jpg\n",
      "Saved processed image to ../../dataset/train_images\\processed_image_1.jpg\n",
      "Saved processed image to ../../dataset/train_images\\processed_image_2.jpg\n",
      "Saved processed image to ../../dataset/train_images\\processed_image_3.jpg\n",
      "Saved processed image to ../../dataset/train_images\\processed_image_4.jpg\n",
      "Saved processed image to ../../dataset/train_images\\processed_image_5.jpg\n",
      "Saved processed image to ../../dataset/train_images\\processed_image_6.jpg\n",
      "Saved processed image to ../../dataset/train_images\\processed_image_7.jpg\n",
      "Saved processed image to ../../dataset/train_images\\processed_image_8.jpg\n",
      "Saved processed image to ../../dataset/train_images\\processed_image_9.jpg\n",
      "Saved processed image to ../../dataset/train_images\\processed_image_10.jpg\n",
      "Saved processed image to ../../dataset/train_images\\processed_image_11.jpg\n",
      "Saved processed image to ../../dataset/train_images\\processed_image_12.jpg\n",
      "Saved processed image to ../../dataset/train_images\\processed_image_13.jpg\n",
      "Saved processed image to ../../dataset/train_images\\processed_image_14.jpg\n",
      "Saved processed image to ../../dataset/train_images\\processed_image_15.jpg\n",
      "Saved processed image to ../../dataset/train_images\\processed_image_16.jpg\n",
      "Saved processed image to ../../dataset/train_images\\processed_image_17.jpg\n",
      "Saved processed image to ../../dataset/train_images\\processed_image_18.jpg\n",
      "Saved processed image to ../../dataset/train_images\\processed_image_19.jpg\n",
      "Saved processed image to ../../dataset/train_images\\processed_image_20.jpg\n",
      "Saved processed image to ../../dataset/train_images\\processed_image_21.jpg\n",
      "Saved processed image to ../../dataset/train_images\\processed_image_22.jpg\n",
      "Saved processed image to ../../dataset/train_images\\processed_image_23.jpg\n",
      "Saved processed image to ../../dataset/train_images\\processed_image_24.jpg\n",
      "Saved processed image to ../../dataset/train_images\\processed_image_25.jpg\n",
      "Saved processed image to ../../dataset/train_images\\processed_image_26.jpg\n",
      "Saved processed image to ../../dataset/train_images\\processed_image_27.jpg\n",
      "Saved processed image to ../../dataset/train_images\\processed_image_28.jpg\n",
      "Saved processed image to ../../dataset/train_images\\processed_image_29.jpg\n",
      "Saved processed image to ../../dataset/train_images\\processed_image_30.jpg\n",
      "Saved processed image to ../../dataset/train_images\\processed_image_31.jpg\n",
      "Saved processed image to ../../dataset/train_images\\processed_image_32.jpg\n",
      "Saved processed image to ../../dataset/train_images\\processed_image_33.jpg\n",
      "Saved processed image to ../../dataset/train_images\\processed_image_34.jpg\n",
      "Saved processed image to ../../dataset/train_images\\processed_image_35.jpg\n",
      "Saved processed image to ../../dataset/train_images\\processed_image_36.jpg\n",
      "Saved processed image to ../../dataset/train_images\\processed_image_37.jpg\n",
      "Saved processed image to ../../dataset/train_images\\processed_image_38.jpg\n",
      "Saved processed image to ../../dataset/train_images\\processed_image_39.jpg\n",
      "Saved processed image to ../../dataset/train_images\\processed_image_40.jpg\n",
      "Saved processed image to ../../dataset/train_images\\processed_image_41.jpg\n",
      "Saved processed image to ../../dataset/train_images\\processed_image_42.jpg\n",
      "Saved processed image to ../../dataset/train_images\\processed_image_43.jpg\n",
      "Saved processed image to ../../dataset/train_images\\processed_image_44.jpg\n",
      "Saved processed image to ../../dataset/train_images\\processed_image_45.jpg\n",
      "Saved processed image to ../../dataset/train_images\\processed_image_46.jpg\n",
      "Saved processed image to ../../dataset/train_images\\processed_image_47.jpg\n",
      "Saved processed image to ../../dataset/train_images\\processed_image_48.jpg\n",
      "Saved processed image to ../../dataset/train_images\\processed_image_49.jpg\n",
      "Saved processed image to ../../dataset/train_images\\processed_image_50.jpg\n",
      "Saved processed image to ../../dataset/train_images\\processed_image_51.jpg\n",
      "Saved processed image to ../../dataset/train_images\\processed_image_52.jpg\n",
      "Saved processed image to ../../dataset/train_images\\processed_image_53.jpg\n",
      "Saved processed image to ../../dataset/train_images\\processed_image_54.jpg\n",
      "Saved processed image to ../../dataset/train_images\\processed_image_55.jpg\n",
      "Saved processed image to ../../dataset/train_images\\processed_image_56.jpg\n",
      "Saved processed image to ../../dataset/train_images\\processed_image_57.jpg\n",
      "Saved processed image to ../../dataset/train_images\\processed_image_58.jpg\n",
      "Saved processed image to ../../dataset/train_images\\processed_image_59.jpg\n",
      "Saved processed image to ../../dataset/train_images\\processed_image_60.jpg\n",
      "Saved processed image to ../../dataset/train_images\\processed_image_61.jpg\n",
      "Saved processed image to ../../dataset/train_images\\processed_image_62.jpg\n",
      "Saved processed image to ../../dataset/train_images\\processed_image_63.jpg\n",
      "Saved processed image to ../../dataset/train_images\\processed_image_64.jpg\n",
      "Saved processed image to ../../dataset/train_images\\processed_image_65.jpg\n",
      "Saved processed image to ../../dataset/train_images\\processed_image_66.jpg\n",
      "Saved processed image to ../../dataset/train_images\\processed_image_67.jpg\n",
      "Saved processed image to ../../dataset/train_images\\processed_image_68.jpg\n",
      "Saved processed image to ../../dataset/train_images\\processed_image_69.jpg\n",
      "Saved processed image to ../../dataset/train_images\\processed_image_70.jpg\n",
      "Saved processed image to ../../dataset/train_images\\processed_image_71.jpg\n",
      "Saved processed image to ../../dataset/train_images\\processed_image_72.jpg\n",
      "Saved processed image to ../../dataset/train_images\\processed_image_73.jpg\n",
      "Saved processed image to ../../dataset/train_images\\processed_image_74.jpg\n",
      "Saved processed image to ../../dataset/train_images\\processed_image_75.jpg\n",
      "Saved processed image to ../../dataset/train_images\\processed_image_76.jpg\n",
      "Saved processed image to ../../dataset/train_images\\processed_image_77.jpg\n",
      "Saved processed image to ../../dataset/train_images\\processed_image_78.jpg\n",
      "Saved processed image to ../../dataset/train_images\\processed_image_79.jpg\n",
      "Saved processed image to ../../dataset/train_images\\processed_image_80.jpg\n",
      "Saved processed image to ../../dataset/train_images\\processed_image_81.jpg\n",
      "Saved processed image to ../../dataset/train_images\\processed_image_82.jpg\n",
      "Saved processed image to ../../dataset/train_images\\processed_image_83.jpg\n",
      "Saved processed image to ../../dataset/train_images\\processed_image_84.jpg\n",
      "Saved processed image to ../../dataset/train_images\\processed_image_85.jpg\n",
      "Saved processed image to ../../dataset/train_images\\processed_image_86.jpg\n",
      "Saved processed image to ../../dataset/train_images\\processed_image_87.jpg\n",
      "Saved processed image to ../../dataset/train_images\\processed_image_88.jpg\n",
      "Saved processed image to ../../dataset/train_images\\processed_image_89.jpg\n",
      "Saved processed image to ../../dataset/train_images\\processed_image_90.jpg\n",
      "Saved processed image to ../../dataset/train_images\\processed_image_91.jpg\n",
      "Saved processed image to ../../dataset/train_images\\processed_image_92.jpg\n",
      "Saved processed image to ../../dataset/train_images\\processed_image_93.jpg\n",
      "Saved processed image to ../../dataset/train_images\\processed_image_94.jpg\n",
      "Saved processed image to ../../dataset/train_images\\processed_image_95.jpg\n",
      "Saved processed image to ../../dataset/train_images\\processed_image_96.jpg\n",
      "Saved processed image to ../../dataset/train_images\\processed_image_97.jpg\n",
      "Saved processed image to ../../dataset/train_images\\processed_image_98.jpg\n",
      "Saved processed image to ../../dataset/train_images\\processed_image_99.jpg\n"
     ]
    }
   ],
   "source": [
    "from src.utils import ImageConverter\n",
    "\n",
    "train_csv = pd.read_csv(\"../../dataset/train.csv\")\n",
    "train_csv = train_csv.head(100)\n",
    "train_images_folder_path = \"../../dataset/train_images\" \n",
    "\n",
    "image_converter = ImageConverter(train_csv, train_images_folder_path)\n",
    "\n",
    "image_converter.process_images_from_csv()"
   ]
  }
 ],
 "metadata": {
  "kernelspec": {
   "display_name": "Python 3",
   "language": "python",
   "name": "python3"
  },
  "language_info": {
   "codemirror_mode": {
    "name": "ipython",
    "version": 3
   },
   "file_extension": ".py",
   "mimetype": "text/x-python",
   "name": "python",
   "nbconvert_exporter": "python",
   "pygments_lexer": "ipython3",
   "version": "3.12.1"
  }
 },
 "nbformat": 4,
 "nbformat_minor": 2
}
